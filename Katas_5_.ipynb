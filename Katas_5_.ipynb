{
 "cells": [
  {
   "cell_type": "code",
   "execution_count": null,
   "metadata": {},
   "outputs": [],
   "source": [
    "# Calcular la distancia entre planetas\n"
   ]
  },
  {
   "cell_type": "code",
   "execution_count": 3,
   "metadata": {},
   "outputs": [
    {
     "name": "stdout",
     "output_type": "stream",
     "text": [
      "628949330\n",
      "390577533.93\n"
     ]
    }
   ],
   "source": [
    "tierra = 149597870\n",
    "jupiter = 778547200\n",
    "\n",
    "\n",
    "distanciaEntrePlanetas = tierra - jupiter\n",
    "print(abs(distanciaEntrePlanetas))\n",
    "\n",
    "distanciaEnMillas = distanciaEntrePlanetas * .621\n",
    "print(abs(distanciaEnMillas))"
   ]
  },
  {
   "cell_type": "code",
   "execution_count": 6,
   "metadata": {},
   "outputs": [],
   "source": [
    "tierra2 = input('Introduzca la distancia del sol para la tierra  en KM')\n",
    "jupiter2 = input('Introduzca la distancia desde el sol para jupiter en KM')"
   ]
  },
  {
   "cell_type": "code",
   "execution_count": null,
   "metadata": {},
   "outputs": [],
   "source": [
    "# Convierte las cadenas de ambos planetas a números enteros\n",
    "tierra2 = int(tierra2)\n",
    "jupiter2 = int(jupiter2)"
   ]
  },
  {
   "cell_type": "code",
   "execution_count": 8,
   "metadata": {},
   "outputs": [
    {
     "name": "stdout",
     "output_type": "stream",
     "text": [
      "5909251\n",
      "5909251\n"
     ]
    }
   ],
   "source": [
    "# Realizar el cálculo y determinar el valor absoluto\n",
    "\n",
    "from math import ceil, floor\n",
    "\n",
    "tierra3=11203098\n",
    "jupiter3=5293847\n",
    "\n",
    "distance_km = tierra3 - jupiter3\n",
    "print(distance_km)\n",
    "\n",
    "# Convertir de KM a Millas\n",
    "distance_mi = distance_km * 0.621\n",
    "distance = ceil(distance_km)\n",
    "print(abs(distance))"
   ]
  }
 ],
 "metadata": {
  "interpreter": {
   "hash": "637f916567a55dde46ecc3e5235610e3b95ad812fa4faad97ecc91d14c4857bf"
  },
  "kernelspec": {
   "display_name": "Python 3.10.2 64-bit",
   "language": "python",
   "name": "python3"
  },
  "language_info": {
   "codemirror_mode": {
    "name": "ipython",
    "version": 3
   },
   "file_extension": ".py",
   "mimetype": "text/x-python",
   "name": "python",
   "nbconvert_exporter": "python",
   "pygments_lexer": "ipython3",
   "version": "3.10.2"
  },
  "orig_nbformat": 4
 },
 "nbformat": 4,
 "nbformat_minor": 2
}
