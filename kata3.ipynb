{
 "cells": [
  {
   "cell_type": "code",
   "execution_count": 4,
   "metadata": {},
   "outputs": [
    {
     "name": "stdout",
     "output_type": "stream",
     "text": [
      "¡Peligro, un asteroide viaja a 49km/s cerca de la tierra!\n"
     ]
    }
   ],
   "source": [
    "Velocidad_Peligrosa = 25 \n",
    "Velocidad_Asteroide = 49\n",
    "\n",
    "\n",
    "if Velocidad_Asteroide > Velocidad_Peligrosa:\n",
    "    print(\"¡Peligro, un asteroide viaja a \" +str(Velocidad_Asteroide) +\"km/s cerca de la tierra!\")"
   ]
  },
  {
   "cell_type": "code",
   "execution_count": 6,
   "metadata": {},
   "outputs": [
    {
     "name": "stdout",
     "output_type": "stream",
     "text": [
      "Un asteroide se dirije a la tierra a una velocidad de 19Km/s su posible impacto no representa peligro\n"
     ]
    }
   ],
   "source": [
    "rayo_Luz = 20\n",
    "Velocidad_Asteroide2 = 19\n",
    "\n",
    "if Velocidad_Asteroide2 >= rayo_Luz:\n",
    "    if Velocidad_Asteroide2 >= rayo_Luz:\n",
    "        print (\"buscad un asteroide en el cielo\")\n",
    "    else:\n",
    "        print(\"A todos, que tengais un lindo dia\")\n",
    "\n",
    "elif Velocidad_Asteroide2 > Velocidad_Peligrosa:\n",
    "    print(\"¡Peligro, un asteroide viaja a \" +str(Velocidad_Asteroide2) +\"km/s cerca de la tierra!\")\n",
    "else:\n",
    "    print (\"¡Un asteroide se dirije a la tierra a una velocidad de \"+str(Velocidad_Asteroide2)+\"Km/s su posible impacto no representa peligro!\")"
   ]
  },
  {
   "cell_type": "code",
   "execution_count": 7,
   "metadata": {},
   "outputs": [
    {
     "name": "stdout",
     "output_type": "stream",
     "text": [
      "¡Un asteroide muy peligroso se acerca a la tierra!\n"
     ]
    }
   ],
   "source": [
    "velocidad_asteroide = 55\n",
    "longitud_asteroide = 7000\n",
    "longitud_peligrosa = 25\n",
    "\n",
    "if velocidad_asteroide >= Velocidad_Peligrosa and longitud_asteroide >= longitud_peligrosa:\n",
    "    print(\"¡Un asteroide muy peligroso se acerca a la tierra!\")\n",
    "else:\n",
    "    print(\"posiblemente hay una luz divina en el cielo\")\n"
   ]
  }
 ],
 "metadata": {
  "interpreter": {
   "hash": "637f916567a55dde46ecc3e5235610e3b95ad812fa4faad97ecc91d14c4857bf"
  },
  "kernelspec": {
   "display_name": "Python 3.10.2 64-bit",
   "language": "python",
   "name": "python3"
  },
  "language_info": {
   "codemirror_mode": {
    "name": "ipython",
    "version": 3
   },
   "file_extension": ".py",
   "mimetype": "text/x-python",
   "name": "python",
   "nbconvert_exporter": "python",
   "pygments_lexer": "ipython3",
   "version": "3.10.2"
  },
  "orig_nbformat": 4
 },
 "nbformat": 4,
 "nbformat_minor": 2
}
